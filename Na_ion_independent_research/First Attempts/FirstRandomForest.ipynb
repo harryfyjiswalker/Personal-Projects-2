{
 "cells": [
  {
   "cell_type": "code",
   "execution_count": 51,
   "id": "3e84aa51-1958-4a9a-85a4-1f3e64006c86",
   "metadata": {},
   "outputs": [
    {
     "name": "stdout",
     "output_type": "stream",
     "text": [
      "RMSE scores for each fold: [48.41460068453501, 40.32452792913704, 43.89637421762208, 48.96598239794693, 54.011256673463464]\n",
      "Mean RMSE across all folds: 47.122548380540906\n"
     ]
    }
   ],
   "source": [
    "import ast\n",
    "import pandas as pd\n",
    "from sklearn.model_selection import train_test_split\n",
    "from sklearn.ensemble import GradientBoostingRegressor  # Using Gradient Boosting here\n",
    "from sklearn.metrics import mean_squared_error\n",
    "from sklearn.model_selection import cross_val_score\n",
    "import numpy as np\n",
    "\n",
    "file_path = '/Users/harryfyjis-walker/Desktop/Sodium Ion ML Research/Making my own database/Data to use/filtered_cathode_mats230911 copy 4.csv'\n",
    "data = pd.read_csv(file_path)\n",
    "\n",
    "critical_columns = ['Capacity', 'Current: C', 'Voltage lower limit', 'Voltage upper limit']\n",
    "data = data.dropna(subset=critical_columns)  # Removing gaps\n",
    "\n",
    "data['Elements'] = data['Elements'].apply(ast.literal_eval)\n",
    "elements_df = data['Elements'].apply(pd.Series)\n",
    "data = pd.concat([data, elements_df], axis=1).drop('Elements', axis=1)\n",
    "\n",
    "element_columns = ['Na', 'Mn', 'Co', 'Cu', 'Fe', 'Ni', 'Ti', 'Sn', 'Cr', 'Li', 'Mg', 'Al', 'La', 'V', 'K', 'Ru', 'Te', 'Zr', 'F', 'Si', 'Sr', 'Sb', 'B', 'Bi', 'Zn']\n",
    "data[element_columns] = data[element_columns].fillna(0)\n",
    "\n",
    "features = element_columns\n",
    "target = 'Capacity'\n",
    "\n",
    "X_train, X_test, y_train, y_test = train_test_split(data[features], data[target], test_size=0.2, random_state=42)\n",
    "\n",
    "model = GradientBoostingRegressor(n_estimators=100, random_state=42)\n",
    "model.fit(X_train, y_train)\n",
    "\n",
    "y_pred = model.predict(X_test)\n",
    "\n",
    "cv_scores = cross_val_score(model, data[features], data[target], cv=5, scoring='neg_mean_squared_error')\n",
    "\n",
    "rmse_scores = [np.sqrt(-score) for score in cv_scores]\n",
    "\n",
    "print(\"RMSE scores for each fold:\", rmse_scores)\n",
    "print(\"Mean RMSE across all folds:\", np.mean(rmse_scores))\n"
   ]
  },
  {
   "cell_type": "code",
   "execution_count": null,
   "id": "9baab546-1b78-4385-ab3d-81a95670cc54",
   "metadata": {},
   "outputs": [],
   "source": []
  }
 ],
 "metadata": {
  "kernelspec": {
   "display_name": "Python (battery_env)",
   "language": "python",
   "name": "battery_env"
  },
  "language_info": {
   "codemirror_mode": {
    "name": "ipython",
    "version": 3
   },
   "file_extension": ".py",
   "mimetype": "text/x-python",
   "name": "python",
   "nbconvert_exporter": "python",
   "pygments_lexer": "ipython3",
   "version": "3.8.20"
  }
 },
 "nbformat": 4,
 "nbformat_minor": 5
}
