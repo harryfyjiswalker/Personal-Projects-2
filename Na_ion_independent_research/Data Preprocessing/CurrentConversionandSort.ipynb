{
 "cells": [
  {
   "cell_type": "code",
   "execution_count": 8,
   "id": "9b6c76ef-fa38-4886-86f2-211b5bc982ba",
   "metadata": {},
   "outputs": [],
   "source": [
    "import pandas as pd\n",
    "\n",
    "data = pd.read_csv('/Users/harryfyjis-walker/Desktop/Sodium Ion ML Research/Making my own database/cathode_mats230911.csv')\n",
    "\n",
    "def calculate_current_c(row):\n",
    "    if pd.isna(row['Current: C']) and pd.notna(row['Current: mAg-1']) and pd.notna(row['Capacity']):\n",
    "        return row['Current: mAg-1'] / row['Capacity']\n",
    "    else:\n",
    "        return row['Current: C']\n",
    "\n",
    "data['Current: C'] = data.apply(calculate_current_c, axis=1)\n",
    "data.dropna(subset=['Current: C'], inplace=True)\n",
    "data.sort_values(by='Current: C', inplace=True)\n",
    "data.to_csv('/Users/harryfyjis-walker/Desktop/Sodium Ion ML Research/Making my own database/sorted_cathode_mats230911.csv', index=False)\n"
   ]
  },
  {
   "cell_type": "code",
   "execution_count": null,
   "id": "2063c058-a7b1-4e49-8eb5-d9ecdceae53e",
   "metadata": {},
   "outputs": [],
   "source": []
  }
 ],
 "metadata": {
  "kernelspec": {
   "display_name": "Python (battery_env)",
   "language": "python",
   "name": "battery_env"
  },
  "language_info": {
   "codemirror_mode": {
    "name": "ipython",
    "version": 3
   },
   "file_extension": ".py",
   "mimetype": "text/x-python",
   "name": "python",
   "nbconvert_exporter": "python",
   "pygments_lexer": "ipython3",
   "version": "3.8.20"
  }
 },
 "nbformat": 4,
 "nbformat_minor": 5
}
