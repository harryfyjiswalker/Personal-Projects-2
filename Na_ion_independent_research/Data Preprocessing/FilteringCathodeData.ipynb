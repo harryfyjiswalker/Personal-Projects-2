{
 "cells": [
  {
   "cell_type": "code",
   "execution_count": 2,
   "id": "c8860e43-7b70-410e-a8b3-157b8eb9585a",
   "metadata": {},
   "outputs": [],
   "source": [
    "import pandas as pd\n",
    "\n",
    "data = pd.read_csv('/Users/harryfyjis-walker/Desktop/Sodium Ion ML Research/Making my own database/sorted_cathode_mats230911.csv')\n",
    "\n",
    "def calculate_current_c(row):\n",
    "    if pd.isna(row['Current: C']) and pd.notna(row['Current: mAg-1']) and pd.notna(row['Capacity']):\n",
    "        return row['Current: mAg-1'] / row['Capacity']\n",
    "    else:\n",
    "        return row['Current: C']\n",
    "\n",
    "data['Current: C'] = data.apply(calculate_current_c, axis=1)\n",
    "filtered_data = data[(data['Current: C'] >= 0.095) & (data['Current: C'] <= 0.105)]\n",
    "filtered_data.to_csv('/Users/harryfyjis-walker/Desktop/Sodium Ion ML Research/Making my own database/filtered_cathode_mats230911.csv', index=False)\n"
   ]
  },
  {
   "cell_type": "code",
   "execution_count": null,
   "id": "facc3846-08ca-4c16-af81-865f04deb0a3",
   "metadata": {},
   "outputs": [],
   "source": []
  }
 ],
 "metadata": {
  "kernelspec": {
   "display_name": "Python (new_env)",
   "language": "python",
   "name": "new_env"
  },
  "language_info": {
   "codemirror_mode": {
    "name": "ipython",
    "version": 3
   },
   "file_extension": ".py",
   "mimetype": "text/x-python",
   "name": "python",
   "nbconvert_exporter": "python",
   "pygments_lexer": "ipython3",
   "version": "3.11.8"
  }
 },
 "nbformat": 4,
 "nbformat_minor": 5
}
