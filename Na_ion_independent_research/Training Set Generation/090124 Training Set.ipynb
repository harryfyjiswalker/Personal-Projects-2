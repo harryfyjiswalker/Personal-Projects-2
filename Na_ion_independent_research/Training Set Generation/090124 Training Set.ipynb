{
 "cells": [
  {
   "cell_type": "code",
   "execution_count": 1,
   "id": "64b5057e-bc1e-4d52-9991-22ccb7539b49",
   "metadata": {},
   "outputs": [
    {
     "name": "stderr",
     "output_type": "stream",
     "text": [
      "[nltk_data] Downloading package words to /Users/harryfyjis-\n",
      "[nltk_data]     walker/nltk_data...\n",
      "[nltk_data]   Unzipping corpora/words.zip.\n"
     ]
    },
    {
     "data": {
      "text/plain": [
       "True"
      ]
     },
     "execution_count": 1,
     "metadata": {},
     "output_type": "execute_result"
    }
   ],
   "source": [
    "import nltk\n",
    "nltk.download('words')"
   ]
  },
  {
   "cell_type": "code",
   "execution_count": 19,
   "id": "f3502bbf-8254-4d0a-b8f4-8dbc31375b6f",
   "metadata": {},
   "outputs": [
    {
     "name": "stdout",
     "output_type": "stream",
     "text": [
      "    text  label\n",
      "0     76      0\n",
      "1     96      0\n",
      "2  =?,@{      0\n",
      "3     61      0\n",
      "4     38      0\n"
     ]
    }
   ],
   "source": [
    "import random\n",
    "import pandas as pd\n",
    "from nltk.corpus import words\n",
    "\n",
    "def generate_composition():\n",
    "    num_transition_metals = random.choice([1, 2, 3])\n",
    "    na_stoichiometry = round(random.uniform(0, 1), 2)\n",
    "    if random.random() < 0.2: \n",
    "        na_stoichiometry = 'x'\n",
    "    remaining_stoich = 1  \n",
    "    \n",
    "    transition_metals = []\n",
    "    metals = []\n",
    "    \n",
    "    if num_transition_metals == 1:\n",
    "        transition_metals = [round(remaining_stoich, 2)]\n",
    "        metals = random.sample(['V', 'Cr', 'Mn', 'Fe', 'Co', 'Ni', 'Zr', 'Nb', 'Mo', 'Tc', 'Ru', 'Rh', 'Pd', 'Hf', 'Ta', 'W', 'Re', 'Os', 'Ir', 'Pt'], 1)\n",
    "    elif num_transition_metals == 2:\n",
    "        metal_1_stoich = round(random.uniform(0, remaining_stoich), 2)\n",
    "        metal_2_stoich = round(remaining_stoich - metal_1_stoich, 2)\n",
    "        transition_metals = [metal_1_stoich, metal_2_stoich]\n",
    "        metals = random.sample(['V', 'Cr', 'Mn', 'Fe', 'Co', 'Ni', 'Zr', 'Nb', 'Mo', 'Tc', 'Ru', 'Rh', 'Pd', 'Hf', 'Ta', 'W', 'Re', 'Os', 'Ir', 'Pt'], 2)\n",
    "\n",
    "        if random.random() < 0.2: \n",
    "            letter = random.choice(['x', 'y'])\n",
    "            transition_metals = [letter, f'1-{letter}']\n",
    "            \n",
    "    else:\n",
    "        metal_1_stoich = round(random.uniform(0, remaining_stoich), 2)\n",
    "        remaining_stoich_2 = remaining_stoich - metal_1_stoich\n",
    "        metal_2_stoich = round(random.uniform(0, remaining_stoich_2), 2)\n",
    "        metal_3_stoich = round(remaining_stoich_2 - metal_2_stoich, 2)\n",
    "        transition_metals = [metal_1_stoich, metal_2_stoich, metal_3_stoich]\n",
    "        metals = random.sample(['V', 'Cr', 'Mn', 'Fe', 'Co', 'Ni', 'Zr', 'Nb', 'Mo', 'Tc', 'Ru', 'Rh', 'Pd', 'Hf', 'Ta', 'W', 'Re', 'Os', 'Ir', 'Pt'], 3)\n",
    "\n",
    "    composition = f\"Na{na_stoichiometry}\" if na_stoichiometry != 'x' else \"Nax\"\n",
    "    \n",
    "    for i in range(len(metals)):\n",
    "        stoichiometry = f\"{transition_metals[i]}\" if transition_metals[i] != 1 else \"\"\n",
    "        composition += f\"{metals[i]}{stoichiometry}\"\n",
    "    \n",
    "    composition += \"O2\"\n",
    "    \n",
    "    return composition\n",
    "\n",
    "def generate_random_text():\n",
    "    options = [\n",
    "        lambda: random.choice(words.words()), \n",
    "        lambda: str(random.randint(0, 100)), \n",
    "        lambda: ''.join(random.choices(\"!@#$%^&*()_+=-[]{};:'\\\"|\\\\,<.>/?\", k=random.randint(1, 5)))\n",
    "    ]\n",
    "    return random.choice(options)()\n",
    "\n",
    "\n",
    "num_valid = 1000  \n",
    "num_invalid = 4000  \n",
    "\n",
    "valid_data = [(generate_composition(), 1) for _ in range(num_valid)]\n",
    "invalid_data = [(generate_random_text(), 0) for _ in range(num_invalid)]\n",
    "\n",
    "dataset = valid_data + invalid_data\n",
    "random.shuffle(dataset)\n",
    "\n",
    "df = pd.DataFrame(dataset, columns=['text', 'label'])\n",
    "\n",
    "output_path = '/Users/harryfyjis-walker/Desktop/Sodium Ion ML Research/Training sets/generated_composition_dataset.csv'\n",
    "df.to_csv(output_path, index=False)\n",
    "\n",
    "print(df.head())\n"
   ]
  },
  {
   "cell_type": "code",
   "execution_count": null,
   "id": "386215fd-b19c-440a-8900-a06a44e80309",
   "metadata": {},
   "outputs": [],
   "source": []
  }
 ],
 "metadata": {
  "kernelspec": {
   "display_name": "Python (battery_env)",
   "language": "python",
   "name": "battery_env"
  },
  "language_info": {
   "codemirror_mode": {
    "name": "ipython",
    "version": 3
   },
   "file_extension": ".py",
   "mimetype": "text/x-python",
   "name": "python",
   "nbconvert_exporter": "python",
   "pygments_lexer": "ipython3",
   "version": "3.8.20"
  }
 },
 "nbformat": 4,
 "nbformat_minor": 5
}
