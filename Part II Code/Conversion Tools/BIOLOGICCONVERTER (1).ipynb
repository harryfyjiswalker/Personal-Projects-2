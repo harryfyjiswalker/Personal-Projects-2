{
 "cells": [
  {
   "cell_type": "code",
   "execution_count": 7,
   "id": "76146c5f-9e62-4f0c-85cc-b0b22c192326",
   "metadata": {
    "tags": []
   },
   "outputs": [
    {
     "name": "stdin",
     "output_type": "stream",
     "text": [
      "Enter the mass in grams: 0.01066\n"
     ]
    },
    {
     "name": "stdout",
     "output_type": "stream",
     "text": [
      "Data rearranged and saved successfully!\n"
     ]
    }
   ],
   "source": [
    "import os\n",
    "import pandas as pd\n",
    "\n",
    "def convert_capacity_to_mAh_per_g(capacity_values, mass_grams):\n",
    "    # Convert capacity from mA.h to mA.h/g\n",
    "    return capacity_values / mass_grams\n",
    "\n",
    "txt_file = \"/Users/harryfyjis-walker/Desktop/Part II Stuff/Electrochem Data for analaysis/HFW_GCD_NFMMO_1002750-1_AFTERSHUTDOWN_C06.txt\"  # Replace with the path to your TXT file\n",
    "df = pd.read_csv(txt_file, delimiter='\\t')\n",
    "\n",
    "# Input mass in grams\n",
    "mass_grams = float(input(\"Enter the mass in grams:\"))\n",
    "\n",
    "# Extract the file name (without extension) from the path\n",
    "file_name = os.path.splitext(os.path.basename(txt_file))[0]\n",
    "\n",
    "rearranged_df = pd.DataFrame()\n",
    "\n",
    "col_counter = 1\n",
    "\n",
    "for cycle_num in df['cycle number'].unique():\n",
    "    cycle_data = df[df['cycle number'] == cycle_num]\n",
    "    \n",
    "    capacity_values = cycle_data['Capacity/mA.h'].values\n",
    "    voltage_values = cycle_data['Ewe/V'].values\n",
    "    \n",
    "    capacity_values_per_g = convert_capacity_to_mAh_per_g(capacity_values, mass_grams)\n",
    "    \n",
    "    cycle_df = pd.DataFrame({\n",
    "        f'Col{col_counter}': capacity_values_per_g,\n",
    "        f'Col{col_counter + 1}': voltage_values\n",
    "    }, index=range(len(capacity_values)))\n",
    "    \n",
    "    col_counter += 2\n",
    "    \n",
    "    rearranged_df = pd.concat([rearranged_df, cycle_df], axis=1)\n",
    "\n",
    "# Define  output directory\n",
    "output_dir = \"/Users/harryfyjis-walker/Desktop/Wood\"\n",
    "\n",
    "# Define output file name with _EXCEL at the end\n",
    "output_file = os.path.join(output_dir, f\"{file_name}_EXCEL.xlsx\")\n",
    "\n",
    "# Specify direc\n",
    "rearranged_df.to_excel(output_file, index=False)  # Index=False to not write row numbers\n",
    "\n",
    "print(\"Data rearranged and saved successfully!\")\n"
   ]
  },
  {
   "cell_type": "code",
   "execution_count": null,
   "id": "b51b124d-435e-4790-bae6-6eb74d09fac6",
   "metadata": {},
   "outputs": [],
   "source": []
  }
 ],
 "metadata": {
  "kernelspec": {
   "display_name": "Python 3 (ipykernel)",
   "language": "python",
   "name": "python3"
  },
  "language_info": {
   "codemirror_mode": {
    "name": "ipython",
    "version": 3
   },
   "file_extension": ".py",
   "mimetype": "text/x-python",
   "name": "python",
   "nbconvert_exporter": "python",
   "pygments_lexer": "ipython3",
   "version": "3.11.8"
  }
 },
 "nbformat": 4,
 "nbformat_minor": 5
}
