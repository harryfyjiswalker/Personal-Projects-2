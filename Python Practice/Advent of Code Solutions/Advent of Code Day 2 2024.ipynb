{
 "cells": [
  {
   "cell_type": "code",
   "execution_count": 19,
   "id": "3189be78-36ad-475e-893c-35c13e9d906e",
   "metadata": {},
   "outputs": [
    {
     "name": "stdout",
     "output_type": "stream",
     "text": [
      "Number of safe rows: 90\n"
     ]
    }
   ],
   "source": [
    "import pandas as pd\n",
    "\n",
    "file_path = '/Users/harryfyjis-walker/Desktop/Github repositories/Personal-Projects/Python Practice/Advent of Code Solutions/Data/day2.txt'\n",
    "\n",
    "with open(file_path, 'r') as file:\n",
    "    data = [line.split() for line in file]\n",
    "\n",
    "df = pd.DataFrame(data)\n",
    "\n",
    "def is_safe(row):\n",
    "    row = [x if x != '' and x is not None else '0' for x in row]  \n",
    "    row = [int(x) for x in row]  \n",
    "    is_increasing = all(row[i] < row[i+1] for i in range(len(row)-1))\n",
    "    is_decreasing = all(row[i] > row[i+1] for i in range(len(row)-1))\n",
    "    valid_differences = all(1 <= abs(row[i] - row[i+1]) <= 3 for i in range(len(row)-1))\n",
    "    return (is_increasing or is_decreasing) and valid_differences\n",
    "\n",
    "safety_status = df.apply(is_safe, axis=1)\n",
    "\n",
    "num_safe_rows = safety_status.sum()\n",
    "\n",
    "print(f\"Number of safe rows: {num_safe_rows}\")\n"
   ]
  },
  {
   "cell_type": "code",
   "execution_count": null,
   "id": "a81c377b-43ef-47dd-b9ed-fca8c2620476",
   "metadata": {},
   "outputs": [],
   "source": []
  }
 ],
 "metadata": {
  "kernelspec": {
   "display_name": "Python (new_env)",
   "language": "python",
   "name": "new_env"
  },
  "language_info": {
   "codemirror_mode": {
    "name": "ipython",
    "version": 3
   },
   "file_extension": ".py",
   "mimetype": "text/x-python",
   "name": "python",
   "nbconvert_exporter": "python",
   "pygments_lexer": "ipython3",
   "version": "3.11.8"
  }
 },
 "nbformat": 4,
 "nbformat_minor": 5
}
