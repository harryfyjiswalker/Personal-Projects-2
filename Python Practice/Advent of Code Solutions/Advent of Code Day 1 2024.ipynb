{
 "cells": [
  {
   "cell_type": "code",
   "execution_count": 40,
   "id": "367aff64-4720-45ff-bb43-95a47e13880d",
   "metadata": {},
   "outputs": [
    {
     "name": "stdout",
     "output_type": "stream",
     "text": [
      "2166959\n"
     ]
    }
   ],
   "source": [
    "#Advent of Code Day 1 2024\n",
    "#Part 1\n",
    "\n",
    "import pandas as pd\n",
    "\n",
    "column_names = [\"Col1\", \"Col2\"]\n",
    "\n",
    "df = pd.read_fwf(\"/Users/harryfyjis-walker/Desktop/input.txt\", delimiter=' ', header=None, names=column_names)\n",
    "\n",
    "for col in df.columns:\n",
    "    df[col] = df[col].sort_values(ignore_index=True)\n",
    "    df['Modulus'] = (df['Col1'] - df['Col2']).abs()\n",
    "    total_modulus = df['Modulus'].sum()\n",
    "\n",
    "print(total_modulus)"
   ]
  },
  {
   "cell_type": "code",
   "execution_count": 16,
   "id": "67a81524-ac97-4bad-b96c-ea09551d4338",
   "metadata": {},
   "outputs": [
    {
     "name": "stdout",
     "output_type": "stream",
     "text": [
      "23741109\n"
     ]
    }
   ],
   "source": [
    "import pandas as pd\n",
    "\n",
    "column_names = [\"Col1\", \"Col2\"]\n",
    "\n",
    "df = pd.read_fwf(\"/Users/harryfyjis-walker/Desktop/input.txt\", delimiter=' ', header=None, names=column_names)\n",
    "\n",
    "def count_occurrences(value, column):\n",
    "    return (column == value).sum()\n",
    "\n",
    "df['Product Occurrences_in_Column2'] = df['Col1'].apply(lambda x: x * count_occurrences(x, df['Col2']))\n",
    "Total = df['Product Occurrences_in_Column2'].sum()\n",
    "\n",
    "print(Total)"
   ]
  }
 ],
 "metadata": {
  "kernelspec": {
   "display_name": "Python (new_env)",
   "language": "python",
   "name": "new_env"
  },
  "language_info": {
   "codemirror_mode": {
    "name": "ipython",
    "version": 3
   },
   "file_extension": ".py",
   "mimetype": "text/x-python",
   "name": "python",
   "nbconvert_exporter": "python",
   "pygments_lexer": "ipython3",
   "version": "3.11.8"
  }
 },
 "nbformat": 4,
 "nbformat_minor": 5
}
