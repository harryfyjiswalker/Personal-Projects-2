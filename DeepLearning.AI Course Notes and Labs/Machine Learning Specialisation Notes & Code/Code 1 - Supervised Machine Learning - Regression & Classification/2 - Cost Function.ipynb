{
 "cells": [
  {
   "cell_type": "code",
   "execution_count": 1,
   "id": "ac00f919",
   "metadata": {},
   "outputs": [],
   "source": [
    "import numpy as np\n",
    "import matplotlib.pyplot as plt"
   ]
  },
  {
   "cell_type": "code",
   "execution_count": 4,
   "id": "3a920e93",
   "metadata": {},
   "outputs": [],
   "source": [
    "x_train = np.array([1.0, 2.0])           #(size in 1000 square feet)\n",
    "y_train = np.array([300.0, 500.0])           #(price in 1000s of dollars)\n",
    "\n",
    "def compute_cost(x, y, w, b): #where x is data (m examples), y is target values, w,b are model parameters\n",
    "    m = x.shape[0] #number of training examples\n",
    "    \n",
    "    cost_sum = 0\n",
    "    for i in range(m):\n",
    "            f_wb = w * x[i] + b #prediction calculated (fx)\n",
    "            cost = (f_wb - y[i]) ** 2 #difference between target an prediction is calculated\n",
    "            cost_sum = cost_sum + cost #this is added to cost sum, and then looped to sum over all i up to m\n",
    "    total_cost = (1/(2*m)) * cost_sum #cost sum divided by number of data points, to find average (total) cost\n",
    "    \n",
    "    return total_cost #then you want to minimise cost to find optimal values of w and b\n",
    "    "
   ]
  },
  {
   "cell_type": "code",
   "execution_count": null,
   "id": "da5d0c5c",
   "metadata": {},
   "outputs": [],
   "source": []
  }
 ],
 "metadata": {
  "kernelspec": {
   "display_name": "Python 3 (ipykernel)",
   "language": "python",
   "name": "python3"
  },
  "language_info": {
   "codemirror_mode": {
    "name": "ipython",
    "version": 3
   },
   "file_extension": ".py",
   "mimetype": "text/x-python",
   "name": "python",
   "nbconvert_exporter": "python",
   "pygments_lexer": "ipython3",
   "version": "3.11.8"
  }
 },
 "nbformat": 4,
 "nbformat_minor": 5
}
