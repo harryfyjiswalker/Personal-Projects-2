{
  "nbformat": 4,
  "nbformat_minor": 0,
  "metadata": {
    "colab": {
      "provenance": []
    },
    "kernelspec": {
      "name": "python3",
      "display_name": "Python 3"
    },
    "language_info": {
      "name": "python"
    }
  },
  "cells": [
    {
      "cell_type": "code",
      "execution_count": 20,
      "metadata": {
        "colab": {
          "base_uri": "https://localhost:8080/",
          "height": 89
        },
        "id": "M8iMkfN60PXu",
        "outputId": "c9d8936e-232e-4cbe-b390-15b508c557cb"
      },
      "outputs": [
        {
          "output_type": "stream",
          "name": "stdout",
          "text": [
            "Feature: Ear Shape, information gain if we split the root node using this feature: 0.28\n",
            "Feature: Face Shape, information gain if we split the root node using this feature: 0.03\n",
            "Feature: Whiskers, information gain if we split the root node using this feature: 0.12\n"
          ]
        },
        {
          "output_type": "execute_result",
          "data": {
            "text/plain": [
              "'Source.gv.pdf'"
            ],
            "application/vnd.google.colaboratory.intrinsic+json": {
              "type": "string"
            }
          },
          "metadata": {},
          "execution_count": 20
        }
      ],
      "source": [
        "# Building a decision tree for cat/dog classificaiton\n",
        "import pandas as pd\n",
        "import numpy as np\n",
        "import matplotlib.pyplot as plt\n",
        "from utils import *\n",
        "from sklearn.tree import DecisionTreeClassifier\n",
        "import graphviz\n",
        "from sklearn import tree\n",
        "\n",
        "#Pointy ears?, Round face?, Whiskers present?\n",
        "X_train = np.array([[1, 1, 1],\n",
        "[0, 0, 1],\n",
        " [0, 1, 0],\n",
        " [1, 0, 1],\n",
        " [1, 1, 1],\n",
        " [1, 1, 0],\n",
        " [0, 0, 0],\n",
        " [1, 1, 0],\n",
        " [0, 1, 0],\n",
        " [0, 1, 0]])\n",
        "\n",
        "#Whether cat or not\n",
        "y_train = np.array([1, 1, 0, 0, 1, 1, 0, 1, 0, 0])\n",
        "\n",
        "#Defining entropy fn\n",
        "def entropy(p):\n",
        "  if p == 0 or p == 1: #avoiding infinite values\n",
        "    return 0\n",
        "  else:\n",
        "    return -p * np.log2(p) - (1- p)*np.log2(1 - p)\n",
        "\n",
        "#Computing information gain if we split the node for each feature\n",
        "def split_indices(X, index_feature):\n",
        "    \"\"\"Given a dataset and a index feature, return two lists for the two split nodes, the left node has the animals that have\n",
        "    that feature = 1 and the right node those that have the feature = 0\n",
        "    index feature = 0 => ear shape\n",
        "    index feature = 1 => face shape\n",
        "    index feature = 2 => whiskers\n",
        "    \"\"\"\n",
        "    left_indices = []\n",
        "    right_indices = []\n",
        "    for i,x in enumerate(X):\n",
        "        if x[index_feature] == 1:\n",
        "            left_indices.append(i)\n",
        "        else:\n",
        "            right_indices.append(i)\n",
        "    return left_indices, right_indices\n",
        "\n",
        "    #Then need to analyse the weighted entropy of the indices we chose to split\n",
        "\n",
        "def weighted_entropy(X,y,left_indices,right_indices):\n",
        "\n",
        "      w_left = len(left_indices)/len(X)\n",
        "      w_right = len(right_indices)/len(X)\n",
        "      p_left = sum(y[left_indices])/len(left_indices)\n",
        "      p_right = sum(y[right_indices])/len(right_indices)\n",
        "\n",
        "      weighted_entropy = w_left * entropy(p_left) + w_right * entropy(p_right)\n",
        "      return weighted_entropy\n",
        "\n",
        "      #Compute information gain (subtraction from weighted entropy)\n",
        "\n",
        "def information_gain(X, y, left_indices, right_indices):\n",
        "        \"\"\"\n",
        "        Here, X has the elements in the node and y is theirs respectives classes\n",
        "        \"\"\"\n",
        "        p_node = sum(y)/len(y)\n",
        "        h_node = entropy(p_node)\n",
        "        w_entropy = weighted_entropy(X,y,left_indices,right_indices)\n",
        "        return h_node - w_entropy\n",
        "\n",
        "for i, feature_name in enumerate(['Ear Shape', 'Face Shape', 'Whiskers']):\n",
        "        left_indices, right_indices = split_indices(X_train, i)\n",
        "        i_gain = information_gain(X_train, y_train, left_indices, right_indices)\n",
        "        print(f\"Feature: {feature_name}, information gain if we split the root node using this feature: {i_gain:.2f}\")\n",
        "\n",
        "clf = DecisionTreeClassifier(criterion='entropy')\n",
        "clf.fit(X_train, y_train)\n",
        "\n",
        "dot_data = tree.export_graphviz(clf, out_file=None,\n",
        "                                feature_names=['Pointy ears?', 'Round face?', 'Whiskers present?'],\n",
        "                                class_names=['dog', 'cat'],\n",
        "                                filled=True, rounded=True,\n",
        "                                special_characters=True)\n",
        "graph = graphviz.Source(dot_data)\n",
        "graph.view()\n",
        "\n"
      ]
    },
    {
      "cell_type": "code",
      "source": [
        "import os\n",
        "print(os.getcwd())"
      ],
      "metadata": {
        "colab": {
          "base_uri": "https://localhost:8080/"
        },
        "id": "j6RIfllj0pE5",
        "outputId": "3c851c1f-d223-4e68-e15e-442334b2a8e8"
      },
      "execution_count": 21,
      "outputs": [
        {
          "output_type": "stream",
          "name": "stdout",
          "text": [
            "/content\n"
          ]
        }
      ]
    }
  ]
}